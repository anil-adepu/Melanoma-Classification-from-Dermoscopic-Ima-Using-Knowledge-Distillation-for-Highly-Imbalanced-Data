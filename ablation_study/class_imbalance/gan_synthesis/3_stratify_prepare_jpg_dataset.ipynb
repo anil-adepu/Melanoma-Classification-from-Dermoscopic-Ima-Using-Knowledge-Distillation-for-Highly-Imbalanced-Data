{
 "cells": [
  {
   "cell_type": "code",
   "execution_count": 1,
   "metadata": {},
   "outputs": [],
   "source": [
    "import numpy as np, pandas as pd, os\n",
    "import matplotlib.pyplot as plt, cv2\n",
    "from PIL import Image\n",
    "from os import path\n",
    "from copy import deepcopy\n",
    "import Augmentor\n",
    "from time import sleep\n",
    "from tensorflow.keras.preprocessing import image"
   ]
  },
  {
   "cell_type": "code",
   "execution_count": 2,
   "metadata": {
    "colab": {
     "base_uri": "https://localhost:8080/",
     "height": 72
    },
    "colab_type": "code",
    "executionInfo": {
     "elapsed": 795,
     "status": "ok",
     "timestamp": 1574125433086,
     "user": {
      "displayName": "Md Hasib Zunair 1320262643",
      "photoUrl": "",
      "userId": "12069756592370329757"
     },
     "user_tz": 300
    },
    "id": "2T6J9i-EF3-C",
    "outputId": "5f97d94b-3dfd-4b03-e70a-5a51391c345a"
   },
   "outputs": [],
   "source": [
    "def return_file_list(data_path, data_type):\n",
    "\tfile_list = [file for file in os.listdir(data_path) if file.lower().endswith(data_type)]\n",
    "\t# print(str(len(file_list)))\n",
    "\treturn file_list\n",
    "\n",
    "def mk_dir(dir_path):\n",
    "\tif not os.path.exists(dir_path):\n",
    "\t\tos.makedirs(dir_path)\n",
    "\treturn dir_path\n",
    "\n",
    "def rm_rf_dir_inner(dir_path):\n",
    "\tif not dir_path.endswith(\"/\"):\n",
    "\t\tdir_path += \"/\"\n",
    "\tos.system(f\"rm -rf {dir_path}*\")\n",
    "\n",
    "def removeHair(image):\n",
    "\tgrayScale = cv2.cvtColor(image, cv2.COLOR_RGB2GRAY)\n",
    "\n",
    "\tkernel = cv2.getStructuringElement(cv2.MORPH_CROSS,(17,17))\n",
    "\tblackhat = cv2.morphologyEx(grayScale, cv2.MORPH_BLACKHAT, kernel)\n",
    "\n",
    "\t# apply thresholding to blackhat\n",
    "\t_,threshold = cv2.threshold(blackhat,36,255,cv2.THRESH_BINARY)\n",
    "\n",
    "\tfinal_image = cv2.inpaint(image,threshold,1,cv2.INPAINT_TELEA)\n",
    "\treturn final_image\n",
    "\n"
   ]
  },
  {
   "cell_type": "code",
   "execution_count": 3,
   "metadata": {
    "colab": {},
    "colab_type": "code",
    "id": "8MWnwzyDvFJ5"
   },
   "outputs": [],
   "source": [
    "FOLDS = 15\n",
    "TARGET_IMG_SIZE = 256\n",
    "IMAGE_EXTENSION = '.jpg'\n",
    "IN_PATH_SYN = './synthetic_m_isic2020/'\n",
    "\n",
    "MAIN_OUT = mk_dir(f\"./ablation_stratified_gan_syn_jpg_{TARGET_IMG_SIZE}\")\n",
    "MAIN_OUT_TEST = mk_dir(f\"{MAIN_OUT}/test/\")\n",
    "MAIN_OUT_TRAIN_PATH = f\"{MAIN_OUT}/train\"\n",
    "MAIN_OUT_TRAIN = [''] * FOLDS"
   ]
  },
  {
   "cell_type": "code",
   "execution_count": 4,
   "metadata": {},
   "outputs": [
    {
     "name": "stdout",
     "output_type": "stream",
     "text": [
      "###################################\n",
      "['image_name', 'patient_id', 'lesion_id', 'sex', 'age_approx', 'anatom_site_general_challenge', 'diagnosis', 'benign_malignant', 'target', 'tfrecord', 'width', 'height', 'patient_code']\n",
      "###################################\n"
     ]
    }
   ],
   "source": [
    "df_isic = pd.read_csv('../../isic2020_datasets/stratified_jpg_1024_inpainted36/train_final2.csv')\n",
    "print('###################################')\n",
    "# ['image_name', 'patient_id', 'lesion_id', 'sex', 'age_approx', 'anatom_site_general_challenge', 'diagnosis', 'benign_malignant', 'target', 'tfrecord', 'width', 'height', 'patient_code']\n",
    "print(list(df_isic.columns))\n",
    "print('###################################')\n"
   ]
  },
  {
   "cell_type": "code",
   "execution_count": null,
   "metadata": {},
   "outputs": [],
   "source": []
  },
  {
   "cell_type": "code",
   "execution_count": 5,
   "metadata": {},
   "outputs": [
    {
     "data": {
      "text/plain": [
       "'./ablation_stratified_gan_syn_jpg_256'"
      ]
     },
     "execution_count": 5,
     "metadata": {},
     "output_type": "execute_result"
    }
   ],
   "source": [
    "MAIN_OUT"
   ]
  },
  {
   "cell_type": "code",
   "execution_count": 8,
   "metadata": {},
   "outputs": [
    {
     "name": "stdout",
     "output_type": "stream",
     "text": [
      "0\n",
      "1\n",
      "2\n",
      "3\n",
      "4\n",
      "5\n",
      "6\n",
      "7\n",
      "8\n",
      "9\n",
      "10\n",
      "11\n",
      "12\n",
      "13\n",
      "14\n"
     ]
    }
   ],
   "source": [
    "# RESIZE TRAIN SPLITS TO 256 FROM 1024\n",
    "\n",
    "IN_PATH_TRAIN = f\"{MAIN_OUT}/_train\"\n",
    "\n",
    "for fold in range(0, FOLDS):\n",
    "\t# PREPARE OUTPUT PIPELINE\n",
    "\tMAIN_OUT_TRAIN[fold] = mk_dir(f\"{MAIN_OUT}/train{fold}\")\n",
    "\n",
    "\t# PREPARE INPUT PIPELINE\n",
    "\tfiles_fold = return_file_list(f\"{IN_PATH_TRAIN}{fold}\", IMAGE_EXTENSION)\n",
    "\n",
    "\t# PROCESS EACH IMAGE\n",
    "\tfor img_name in files_fold:\n",
    "\t\t\timg_data = np.asarray(image.load_img(\n",
    "\t\t\t\t\tIN_PATH_TRAIN + str(fold) + '/' + img_name))\n",
    "\t\t\tprint(\n",
    "\t\t\t\t\tf\"Processing image: {img_name}...\\tFold: {fold} {img_data.shape}\")\n",
    "\n",
    "\t\t\t# resize and save\n",
    "\t\t\timg_data = cv2.resize(\n",
    "\t\t\t\t\timg_data, (TARGET_IMG_SIZE, TARGET_IMG_SIZE), interpolation=cv2.INTER_AREA)\n",
    "\t\t\timg_data = Image.fromarray(img_data)\n",
    "\t\t\timg_data.save(\n",
    "\t\t\t\t\tpath.join(MAIN_OUT_TRAIN[fold] + '/', img_name))\n",
    "\n"
   ]
  },
  {
   "cell_type": "code",
   "execution_count": 11,
   "metadata": {},
   "outputs": [
    {
     "name": "stdout",
     "output_type": "stream",
     "text": [
      "0 ['./ablation_stratified_gan_syn_jpg_256/train0', './ablation_stratified_gan_syn_jpg_256/train1', './ablation_stratified_gan_syn_jpg_256/train2', './ablation_stratified_gan_syn_jpg_256/train3', './ablation_stratified_gan_syn_jpg_256/train4', './ablation_stratified_gan_syn_jpg_256/train5', './ablation_stratified_gan_syn_jpg_256/train6', './ablation_stratified_gan_syn_jpg_256/train7', './ablation_stratified_gan_syn_jpg_256/train8', './ablation_stratified_gan_syn_jpg_256/train9', './ablation_stratified_gan_syn_jpg_256/train10', './ablation_stratified_gan_syn_jpg_256/train11', './ablation_stratified_gan_syn_jpg_256/train12', './ablation_stratified_gan_syn_jpg_256/train13', './ablation_stratified_gan_syn_jpg_256/train14'] [0, 0, 0, 0, 0, 0, 0, 0, 0, 0, 0, 0, 0, 0, 0]\n",
      "1 ['./ablation_stratified_gan_syn_jpg_256/train0', './ablation_stratified_gan_syn_jpg_256/train1', './ablation_stratified_gan_syn_jpg_256/train2', './ablation_stratified_gan_syn_jpg_256/train3', './ablation_stratified_gan_syn_jpg_256/train4', './ablation_stratified_gan_syn_jpg_256/train5', './ablation_stratified_gan_syn_jpg_256/train6', './ablation_stratified_gan_syn_jpg_256/train7', './ablation_stratified_gan_syn_jpg_256/train8', './ablation_stratified_gan_syn_jpg_256/train9', './ablation_stratified_gan_syn_jpg_256/train10', './ablation_stratified_gan_syn_jpg_256/train11', './ablation_stratified_gan_syn_jpg_256/train12', './ablation_stratified_gan_syn_jpg_256/train13', './ablation_stratified_gan_syn_jpg_256/train14'] [0, 0, 0, 0, 0, 0, 0, 0, 0, 0, 0, 0, 0, 0, 0]\n",
      "2 ['./ablation_stratified_gan_syn_jpg_256/train0', './ablation_stratified_gan_syn_jpg_256/train1', './ablation_stratified_gan_syn_jpg_256/train2', './ablation_stratified_gan_syn_jpg_256/train3', './ablation_stratified_gan_syn_jpg_256/train4', './ablation_stratified_gan_syn_jpg_256/train5', './ablation_stratified_gan_syn_jpg_256/train6', './ablation_stratified_gan_syn_jpg_256/train7', './ablation_stratified_gan_syn_jpg_256/train8', './ablation_stratified_gan_syn_jpg_256/train9', './ablation_stratified_gan_syn_jpg_256/train10', './ablation_stratified_gan_syn_jpg_256/train11', './ablation_stratified_gan_syn_jpg_256/train12', './ablation_stratified_gan_syn_jpg_256/train13', './ablation_stratified_gan_syn_jpg_256/train14'] [0, 0, 0, 0, 0, 0, 0, 0, 0, 0, 0, 0, 0, 0, 0]\n",
      "3 ['./ablation_stratified_gan_syn_jpg_256/train0', './ablation_stratified_gan_syn_jpg_256/train1', './ablation_stratified_gan_syn_jpg_256/train2', './ablation_stratified_gan_syn_jpg_256/train3', './ablation_stratified_gan_syn_jpg_256/train4', './ablation_stratified_gan_syn_jpg_256/train5', './ablation_stratified_gan_syn_jpg_256/train6', './ablation_stratified_gan_syn_jpg_256/train7', './ablation_stratified_gan_syn_jpg_256/train8', './ablation_stratified_gan_syn_jpg_256/train9', './ablation_stratified_gan_syn_jpg_256/train10', './ablation_stratified_gan_syn_jpg_256/train11', './ablation_stratified_gan_syn_jpg_256/train12', './ablation_stratified_gan_syn_jpg_256/train13', './ablation_stratified_gan_syn_jpg_256/train14'] [0, 0, 0, 0, 0, 0, 0, 0, 0, 0, 0, 0, 0, 0, 0]\n",
      "4 ['./ablation_stratified_gan_syn_jpg_256/train0', './ablation_stratified_gan_syn_jpg_256/train1', './ablation_stratified_gan_syn_jpg_256/train2', './ablation_stratified_gan_syn_jpg_256/train3', './ablation_stratified_gan_syn_jpg_256/train4', './ablation_stratified_gan_syn_jpg_256/train5', './ablation_stratified_gan_syn_jpg_256/train6', './ablation_stratified_gan_syn_jpg_256/train7', './ablation_stratified_gan_syn_jpg_256/train8', './ablation_stratified_gan_syn_jpg_256/train9', './ablation_stratified_gan_syn_jpg_256/train10', './ablation_stratified_gan_syn_jpg_256/train11', './ablation_stratified_gan_syn_jpg_256/train12', './ablation_stratified_gan_syn_jpg_256/train13', './ablation_stratified_gan_syn_jpg_256/train14'] [0, 0, 0, 0, 0, 0, 0, 0, 0, 0, 0, 0, 0, 0, 0]\n",
      "5 ['./ablation_stratified_gan_syn_jpg_256/train0', './ablation_stratified_gan_syn_jpg_256/train1', './ablation_stratified_gan_syn_jpg_256/train2', './ablation_stratified_gan_syn_jpg_256/train3', './ablation_stratified_gan_syn_jpg_256/train4', './ablation_stratified_gan_syn_jpg_256/train5', './ablation_stratified_gan_syn_jpg_256/train6', './ablation_stratified_gan_syn_jpg_256/train7', './ablation_stratified_gan_syn_jpg_256/train8', './ablation_stratified_gan_syn_jpg_256/train9', './ablation_stratified_gan_syn_jpg_256/train10', './ablation_stratified_gan_syn_jpg_256/train11', './ablation_stratified_gan_syn_jpg_256/train12', './ablation_stratified_gan_syn_jpg_256/train13', './ablation_stratified_gan_syn_jpg_256/train14'] [0, 0, 0, 0, 0, 0, 0, 0, 0, 0, 0, 0, 0, 0, 0]\n",
      "6 ['./ablation_stratified_gan_syn_jpg_256/train0', './ablation_stratified_gan_syn_jpg_256/train1', './ablation_stratified_gan_syn_jpg_256/train2', './ablation_stratified_gan_syn_jpg_256/train3', './ablation_stratified_gan_syn_jpg_256/train4', './ablation_stratified_gan_syn_jpg_256/train5', './ablation_stratified_gan_syn_jpg_256/train6', './ablation_stratified_gan_syn_jpg_256/train7', './ablation_stratified_gan_syn_jpg_256/train8', './ablation_stratified_gan_syn_jpg_256/train9', './ablation_stratified_gan_syn_jpg_256/train10', './ablation_stratified_gan_syn_jpg_256/train11', './ablation_stratified_gan_syn_jpg_256/train12', './ablation_stratified_gan_syn_jpg_256/train13', './ablation_stratified_gan_syn_jpg_256/train14'] [0, 0, 0, 0, 0, 0, 0, 0, 0, 0, 0, 0, 0, 0, 0]\n",
      "7 ['./ablation_stratified_gan_syn_jpg_256/train0', './ablation_stratified_gan_syn_jpg_256/train1', './ablation_stratified_gan_syn_jpg_256/train2', './ablation_stratified_gan_syn_jpg_256/train3', './ablation_stratified_gan_syn_jpg_256/train4', './ablation_stratified_gan_syn_jpg_256/train5', './ablation_stratified_gan_syn_jpg_256/train6', './ablation_stratified_gan_syn_jpg_256/train7', './ablation_stratified_gan_syn_jpg_256/train8', './ablation_stratified_gan_syn_jpg_256/train9', './ablation_stratified_gan_syn_jpg_256/train10', './ablation_stratified_gan_syn_jpg_256/train11', './ablation_stratified_gan_syn_jpg_256/train12', './ablation_stratified_gan_syn_jpg_256/train13', './ablation_stratified_gan_syn_jpg_256/train14'] [0, 0, 0, 0, 0, 0, 0, 0, 0, 0, 0, 0, 0, 0, 0]\n",
      "8 ['./ablation_stratified_gan_syn_jpg_256/train0', './ablation_stratified_gan_syn_jpg_256/train1', './ablation_stratified_gan_syn_jpg_256/train2', './ablation_stratified_gan_syn_jpg_256/train3', './ablation_stratified_gan_syn_jpg_256/train4', './ablation_stratified_gan_syn_jpg_256/train5', './ablation_stratified_gan_syn_jpg_256/train6', './ablation_stratified_gan_syn_jpg_256/train7', './ablation_stratified_gan_syn_jpg_256/train8', './ablation_stratified_gan_syn_jpg_256/train9', './ablation_stratified_gan_syn_jpg_256/train10', './ablation_stratified_gan_syn_jpg_256/train11', './ablation_stratified_gan_syn_jpg_256/train12', './ablation_stratified_gan_syn_jpg_256/train13', './ablation_stratified_gan_syn_jpg_256/train14'] [0, 0, 0, 0, 0, 0, 0, 0, 0, 0, 0, 0, 0, 0, 0]\n",
      "9 ['./ablation_stratified_gan_syn_jpg_256/train0', './ablation_stratified_gan_syn_jpg_256/train1', './ablation_stratified_gan_syn_jpg_256/train2', './ablation_stratified_gan_syn_jpg_256/train3', './ablation_stratified_gan_syn_jpg_256/train4', './ablation_stratified_gan_syn_jpg_256/train5', './ablation_stratified_gan_syn_jpg_256/train6', './ablation_stratified_gan_syn_jpg_256/train7', './ablation_stratified_gan_syn_jpg_256/train8', './ablation_stratified_gan_syn_jpg_256/train9', './ablation_stratified_gan_syn_jpg_256/train10', './ablation_stratified_gan_syn_jpg_256/train11', './ablation_stratified_gan_syn_jpg_256/train12', './ablation_stratified_gan_syn_jpg_256/train13', './ablation_stratified_gan_syn_jpg_256/train14'] [0, 0, 0, 0, 0, 0, 0, 0, 0, 0, 0, 0, 0, 0, 0]\n",
      "10 ['./ablation_stratified_gan_syn_jpg_256/train0', './ablation_stratified_gan_syn_jpg_256/train1', './ablation_stratified_gan_syn_jpg_256/train2', './ablation_stratified_gan_syn_jpg_256/train3', './ablation_stratified_gan_syn_jpg_256/train4', './ablation_stratified_gan_syn_jpg_256/train5', './ablation_stratified_gan_syn_jpg_256/train6', './ablation_stratified_gan_syn_jpg_256/train7', './ablation_stratified_gan_syn_jpg_256/train8', './ablation_stratified_gan_syn_jpg_256/train9', './ablation_stratified_gan_syn_jpg_256/train10', './ablation_stratified_gan_syn_jpg_256/train11', './ablation_stratified_gan_syn_jpg_256/train12', './ablation_stratified_gan_syn_jpg_256/train13', './ablation_stratified_gan_syn_jpg_256/train14'] [0, 0, 0, 0, 0, 0, 0, 0, 0, 0, 0, 0, 0, 0, 0]\n",
      "11 ['./ablation_stratified_gan_syn_jpg_256/train0', './ablation_stratified_gan_syn_jpg_256/train1', './ablation_stratified_gan_syn_jpg_256/train2', './ablation_stratified_gan_syn_jpg_256/train3', './ablation_stratified_gan_syn_jpg_256/train4', './ablation_stratified_gan_syn_jpg_256/train5', './ablation_stratified_gan_syn_jpg_256/train6', './ablation_stratified_gan_syn_jpg_256/train7', './ablation_stratified_gan_syn_jpg_256/train8', './ablation_stratified_gan_syn_jpg_256/train9', './ablation_stratified_gan_syn_jpg_256/train10', './ablation_stratified_gan_syn_jpg_256/train11', './ablation_stratified_gan_syn_jpg_256/train12', './ablation_stratified_gan_syn_jpg_256/train13', './ablation_stratified_gan_syn_jpg_256/train14'] [0, 0, 0, 0, 0, 0, 0, 0, 0, 0, 0, 0, 0, 0, 0]\n",
      "12 ['./ablation_stratified_gan_syn_jpg_256/train0', './ablation_stratified_gan_syn_jpg_256/train1', './ablation_stratified_gan_syn_jpg_256/train2', './ablation_stratified_gan_syn_jpg_256/train3', './ablation_stratified_gan_syn_jpg_256/train4', './ablation_stratified_gan_syn_jpg_256/train5', './ablation_stratified_gan_syn_jpg_256/train6', './ablation_stratified_gan_syn_jpg_256/train7', './ablation_stratified_gan_syn_jpg_256/train8', './ablation_stratified_gan_syn_jpg_256/train9', './ablation_stratified_gan_syn_jpg_256/train10', './ablation_stratified_gan_syn_jpg_256/train11', './ablation_stratified_gan_syn_jpg_256/train12', './ablation_stratified_gan_syn_jpg_256/train13', './ablation_stratified_gan_syn_jpg_256/train14'] [0, 0, 0, 0, 0, 0, 0, 0, 0, 0, 0, 0, 0, 0, 0]\n",
      "13 ['./ablation_stratified_gan_syn_jpg_256/train0', './ablation_stratified_gan_syn_jpg_256/train1', './ablation_stratified_gan_syn_jpg_256/train2', './ablation_stratified_gan_syn_jpg_256/train3', './ablation_stratified_gan_syn_jpg_256/train4', './ablation_stratified_gan_syn_jpg_256/train5', './ablation_stratified_gan_syn_jpg_256/train6', './ablation_stratified_gan_syn_jpg_256/train7', './ablation_stratified_gan_syn_jpg_256/train8', './ablation_stratified_gan_syn_jpg_256/train9', './ablation_stratified_gan_syn_jpg_256/train10', './ablation_stratified_gan_syn_jpg_256/train11', './ablation_stratified_gan_syn_jpg_256/train12', './ablation_stratified_gan_syn_jpg_256/train13', './ablation_stratified_gan_syn_jpg_256/train14'] [0, 0, 0, 0, 0, 0, 0, 0, 0, 0, 0, 0, 0, 0, 0]\n",
      "14 ['./ablation_stratified_gan_syn_jpg_256/train0', './ablation_stratified_gan_syn_jpg_256/train1', './ablation_stratified_gan_syn_jpg_256/train2', './ablation_stratified_gan_syn_jpg_256/train3', './ablation_stratified_gan_syn_jpg_256/train4', './ablation_stratified_gan_syn_jpg_256/train5', './ablation_stratified_gan_syn_jpg_256/train6', './ablation_stratified_gan_syn_jpg_256/train7', './ablation_stratified_gan_syn_jpg_256/train8', './ablation_stratified_gan_syn_jpg_256/train9', './ablation_stratified_gan_syn_jpg_256/train10', './ablation_stratified_gan_syn_jpg_256/train11', './ablation_stratified_gan_syn_jpg_256/train12', './ablation_stratified_gan_syn_jpg_256/train13', './ablation_stratified_gan_syn_jpg_256/train14'] [0, 0, 0, 0, 0, 0, 0, 0, 0, 0, 0, 0, 0, 0, -25683]\n"
     ]
    },
    {
     "data": {
      "text/plain": [
       "0"
      ]
     },
     "execution_count": 11,
     "metadata": {},
     "output_type": "execute_result"
    }
   ],
   "source": [
    "MAX_IMGS_PER_FOLD = 4321 # ( 32120 * 2 + 581 ) / 15\n",
    "SYN_IMGS_PER_FOLD = [0] * FOLDS\n",
    "ORIGINAL_IMGS_PER_FOLD = [0] * FOLDS\n",
    "\n",
    "# IN_PATH_TRAIN = f\"{MAIN_OUT}/_train\"\n",
    "SYN_FILES_LIST = sorted(return_file_list(IN_PATH_SYN, '.jpg'))\n",
    "SYN_FILES_VISITED = {}\n",
    "for file in SYN_FILES_LIST:\n",
    "    SYN_FILES_VISITED[file] = False\n",
    "\n",
    "cnt = 0\n",
    "current_syn_idx = 0\n",
    "for fold in range(0, FOLDS):\n",
    "\t# PREPARE OUTPUT PIPELINE\n",
    "    MAIN_OUT_TRAIN[fold] = mk_dir(f\"{MAIN_OUT}/train{fold}\")\n",
    "\n",
    "\t# PREPARE INPUT PIPELINE\n",
    "    ORIGINAL_IMGS_PER_FOLD[fold] = len(return_file_list(f\"{MAIN_OUT_TRAIN[fold]}\", IMAGE_EXTENSION))\n",
    "    SYN_IMGS_PER_FOLD[fold] = (MAX_IMGS_PER_FOLD - ORIGINAL_IMGS_PER_FOLD[fold])\n",
    "    cnt = cnt + (MAX_IMGS_PER_FOLD - ORIGINAL_IMGS_PER_FOLD[fold])\n",
    "\n",
    "    SYN_IMGS_TO_FOLD = SYN_FILES_LIST[current_syn_idx:current_syn_idx+SYN_IMGS_PER_FOLD[fold]]\n",
    "\n",
    "\t# PROCESS EACH SYNTHETIC IMAGE\n",
    "    for img_name in SYN_IMGS_TO_FOLD:\n",
    "        SYN_FILES_VISITED[img_name] = True\n",
    "        img_data = np.asarray(image.load_img(\n",
    "                IN_PATH_SYN + img_name))\n",
    "        print(\n",
    "                f\"Processing image: {img_name}...\\tFold: {fold} {img_data.shape}\")\n",
    "\n",
    "        # ARTIFACT REMOVAL\n",
    "        img_data = np.array(removeHair(img_data))\n",
    "\n",
    "        # resize and save\n",
    "        if img_data.shape[0] != TARGET_IMG_SIZE:\n",
    "            img_data = cv2.resize(\n",
    "                    img_data, (TARGET_IMG_SIZE, TARGET_IMG_SIZE), interpolation=cv2.INTER_AREA)\n",
    "\n",
    "        img_data = Image.fromarray(img_data)\n",
    "        img_data.save(\n",
    "                path.join(MAIN_OUT_TRAIN[fold] + '/', img_name))\n",
    "\n",
    "\n",
    "\n",
    "    current_syn_idx += SYN_IMGS_PER_FOLD[fold]\n",
    "\n",
    "cnt"
   ]
  },
  {
   "cell_type": "code",
   "execution_count": null,
   "metadata": {},
   "outputs": [],
   "source": []
  },
  {
   "cell_type": "code",
   "execution_count": null,
   "metadata": {},
   "outputs": [],
   "source": [
    "remaining = []\n",
    "for img in list(SYN_FILES_VISITED.keys()):\n",
    "    if not SYN_FILES_VISITED[img]:\n",
    "        remaining.append(img)\n",
    "\n",
    "len(remaining)"
   ]
  },
  {
   "cell_type": "code",
   "execution_count": null,
   "metadata": {},
   "outputs": [],
   "source": [
    "from random import randint, randrange\n",
    "\n",
    "randint(0, 999999)     # randint is inclusive at both ends"
   ]
  },
  {
   "cell_type": "code",
   "execution_count": null,
   "metadata": {},
   "outputs": [],
   "source": [
    "from random import randint, randrange\n",
    "\n",
    "df_isic_out = deepcopy(df_isic)\n",
    "df_row = df_isic.loc[df_isic.image_name == df_isic.iloc[0]['image_name']]\n",
    "\n",
    "SYN_IMGS_PER_FOLD_CUM_SUM = deepcopy(SYN_IMGS_PER_FOLD)\n",
    "\n",
    "for i in range(1, len(SYN_IMGS_PER_FOLD_CUM_SUM)):\n",
    "    SYN_IMGS_PER_FOLD_CUM_SUM[i] = SYN_IMGS_PER_FOLD_CUM_SUM[i] + SYN_IMGS_PER_FOLD_CUM_SUM[i-1]\n",
    "\n",
    "fold = 0\n",
    "for idx, file_name in enumerate(SYN_FILES_LIST):\n",
    "    if idx == SYN_IMGS_PER_FOLD_CUM_SUM[int(min(14,fold))]:\n",
    "        fold += 1\n",
    "    \n",
    "    df_row_syn = deepcopy(df_row)\n",
    "    df_row_syn['image_name'] = file_name.split(f'{IMAGE_EXTENSION}')[0]\n",
    "    df_row_syn['patient_id'] = 'IP_' + file_name.split('_')[1]\n",
    "    df_row_syn['lesion_id'] = 'IL_' + file_name.split('_')[1]\n",
    "    df_row_syn['sex'] = np.nan\n",
    "    df_row_syn['age_approx'] = np.nan\n",
    "    df_row_syn['anatom_site_general_challenge'] = np.nan\n",
    "    df_row_syn['diagnosis'] = 'unknown'\n",
    "    df_row_syn['patient_code'] = np.int64(randint(0, 999999))\n",
    "    df_row_syn['width'] = 6000\n",
    "    df_row_syn['height'] = 4000\n",
    "    df_row_syn['benign_malignant'] = 'malignant'\n",
    "    df_row_syn['tfrecord'] = np.int64(min(fold, 14))\n",
    "    df_row_syn['target'] = np.int64(1)\n",
    "    df_isic_out = pd.concat([df_isic_out, df_row_syn], ignore_index=True)"
   ]
  },
  {
   "cell_type": "code",
   "execution_count": null,
   "metadata": {},
   "outputs": [],
   "source": [
    "df_isic_out.to_csv(\n",
    "    f\"{MAIN_OUT}/train_gan_64k.csv\", index=False)"
   ]
  },
  {
   "cell_type": "code",
   "execution_count": null,
   "metadata": {},
   "outputs": [],
   "source": [
    "from collections import Counter\n",
    "Counter(list(df_isic_out['target'])), Counter(list(df_isic_out['benign_malignant']))"
   ]
  },
  {
   "cell_type": "code",
   "execution_count": null,
   "metadata": {},
   "outputs": [],
   "source": []
  },
  {
   "cell_type": "code",
   "execution_count": null,
   "metadata": {},
   "outputs": [],
   "source": []
  }
 ],
 "metadata": {
  "accelerator": "GPU",
  "colab": {
   "collapsed_sections": [],
   "name": "train_cyclegan.ipynb",
   "provenance": []
  },
  "kernelspec": {
   "display_name": "Python 3.9.12 ('base')",
   "language": "python",
   "name": "python3"
  },
  "language_info": {
   "codemirror_mode": {
    "name": "ipython",
    "version": 3
   },
   "file_extension": ".py",
   "mimetype": "text/x-python",
   "name": "python",
   "nbconvert_exporter": "python",
   "pygments_lexer": "ipython3",
   "version": "3.9.12"
  },
  "vscode": {
   "interpreter": {
    "hash": "fbf2cc711b1af3a4fc36d2ba87079c1e775182e1e3a69392f324afec1d64edb6"
   }
  }
 },
 "nbformat": 4,
 "nbformat_minor": 4
}
