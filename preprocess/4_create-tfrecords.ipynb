{
 "cells": [
  {
   "cell_type": "code",
   "execution_count": null,
   "metadata": {
    "_cell_guid": "b1076dfc-b9ad-4769-8c92-a6c4dae69d19",
    "_uuid": "8f2839f25d086af736a60e9eeb907d3b93b6e0e5",
    "execution": {
     "iopub.execute_input": "2020-11-11T23:59:30.569635Z",
     "iopub.status.busy": "2020-11-11T23:59:30.568924Z",
     "iopub.status.idle": "2020-11-11T23:59:36.391647Z",
     "shell.execute_reply": "2020-11-11T23:59:36.390885Z"
    },
    "papermill": {
     "duration": 5.843484,
     "end_time": "2020-11-11T23:59:36.391792",
     "exception": false,
     "start_time": "2020-11-11T23:59:30.548308",
     "status": "completed"
    },
    "tags": []
   },
   "outputs": [],
   "source": [
    "# LOAD LIBRARIES\n",
    "import numpy as np, pandas as pd, os\n",
    "import matplotlib.pyplot as plt, cv2\n",
    "import tensorflow as tf, re, math\n",
    "from kaggle_datasets import KaggleDatasets\n",
    "from keras.preprocessing import image"
   ]
  },
  {
   "cell_type": "code",
   "execution_count": null,
   "metadata": {
    "execution": {
     "iopub.execute_input": "2020-11-11T23:59:36.422984Z",
     "iopub.status.busy": "2020-11-11T23:59:36.422009Z",
     "iopub.status.idle": "2020-11-11T23:59:36.519514Z",
     "shell.execute_reply": "2020-11-11T23:59:36.518898Z"
    },
    "papermill": {
     "duration": 0.114631,
     "end_time": "2020-11-11T23:59:36.519624",
     "exception": false,
     "start_time": "2020-11-11T23:59:36.404993",
     "status": "completed"
    },
    "tags": []
   },
   "outputs": [],
   "source": [
    "# PATHS TO IMAGES\n",
    "GCS_PATH = '../input/isic2020-256x256-jpg/stratified_jpg_256/train'\n",
    "GCS_PATH2 = '../input/isic2020-256x256-jpg/stratified_jpg_256/test/'\n",
    "IMGS2 = os.listdir(GCS_PATH2)\n",
    "len(IMGS2)"
   ]
  },
  {
   "cell_type": "code",
   "execution_count": null,
   "metadata": {
    "execution": {
     "iopub.execute_input": "2020-11-11T23:59:36.551281Z",
     "iopub.status.busy": "2020-11-11T23:59:36.550527Z",
     "iopub.status.idle": "2020-11-11T23:59:36.554438Z",
     "shell.execute_reply": "2020-11-11T23:59:36.553834Z"
    },
    "papermill": {
     "duration": 0.021421,
     "end_time": "2020-11-11T23:59:36.554545",
     "exception": false,
     "start_time": "2020-11-11T23:59:36.533124",
     "status": "completed"
    },
    "tags": []
   },
   "outputs": [],
   "source": [
    "GCS_PATH, GCS_PATH2"
   ]
  },
  {
   "cell_type": "code",
   "execution_count": null,
   "metadata": {
    "execution": {
     "iopub.execute_input": "2020-11-11T23:59:36.588341Z",
     "iopub.status.busy": "2020-11-11T23:59:36.587530Z",
     "iopub.status.idle": "2020-11-11T23:59:36.683954Z",
     "shell.execute_reply": "2020-11-11T23:59:36.683271Z"
    },
    "papermill": {
     "duration": 0.115979,
     "end_time": "2020-11-11T23:59:36.684074",
     "exception": false,
     "start_time": "2020-11-11T23:59:36.568095",
     "status": "completed"
    },
    "tags": []
   },
   "outputs": [],
   "source": [
    "# LOAD TRAIN META DATA\n",
    "df = pd.read_csv('../input/isic2020-256x256-jpg/stratified_jpg_256/train_final.csv')\n",
    "df.head()"
   ]
  },
  {
   "cell_type": "code",
   "execution_count": null,
   "metadata": {
    "execution": {
     "iopub.execute_input": "2020-11-11T23:59:36.719553Z",
     "iopub.status.busy": "2020-11-11T23:59:36.718417Z",
     "iopub.status.idle": "2020-11-11T23:59:36.750618Z",
     "shell.execute_reply": "2020-11-11T23:59:36.749932Z"
    },
    "papermill": {
     "duration": 0.052393,
     "end_time": "2020-11-11T23:59:36.750758",
     "exception": false,
     "start_time": "2020-11-11T23:59:36.698365",
     "status": "completed"
    },
    "tags": []
   },
   "outputs": [],
   "source": [
    "# LOAD TEST META DATA\n",
    "test = pd.read_csv('../input/isic2020-256x256-jpg/stratified_jpg_256/test.csv')\n",
    "test.head()"
   ]
  },
  {
   "cell_type": "code",
   "execution_count": null,
   "metadata": {
    "execution": {
     "iopub.execute_input": "2020-11-11T23:59:36.793800Z",
     "iopub.status.busy": "2020-11-11T23:59:36.786020Z",
     "iopub.status.idle": "2020-11-11T23:59:36.807448Z",
     "shell.execute_reply": "2020-11-11T23:59:36.806858Z"
    },
    "papermill": {
     "duration": 0.042125,
     "end_time": "2020-11-11T23:59:36.807574",
     "exception": false,
     "start_time": "2020-11-11T23:59:36.765449",
     "status": "completed"
    },
    "tags": []
   },
   "outputs": [],
   "source": [
    "# COMBINE TRAIN AND TEST TO ENCODE TOGETHER\n",
    "cols = test.columns\n",
    "comb = pd.concat([df[cols],test[cols]],ignore_index=True,axis=0).reset_index(drop=True)"
   ]
  },
  {
   "cell_type": "code",
   "execution_count": null,
   "metadata": {
    "execution": {
     "iopub.execute_input": "2020-11-11T23:59:36.847325Z",
     "iopub.status.busy": "2020-11-11T23:59:36.846586Z",
     "iopub.status.idle": "2020-11-11T23:59:36.870807Z",
     "shell.execute_reply": "2020-11-11T23:59:36.869377Z"
    },
    "papermill": {
     "duration": 0.048208,
     "end_time": "2020-11-11T23:59:36.870994",
     "exception": false,
     "start_time": "2020-11-11T23:59:36.822786",
     "status": "completed"
    },
    "tags": []
   },
   "outputs": [],
   "source": [
    "# LABEL ENCODE ALL STRINGS\n",
    "cats = ['patient_id','sex','anatom_site_general_challenge'] \n",
    "for c in cats:\n",
    "    comb[c],mp = comb[c].factorize()\n",
    "    print(mp)\n",
    "print('Imputing Age NaN count =',comb.age_approx.isnull().sum())\n",
    "comb.age_approx.fillna(comb.age_approx.mean(),inplace=True)\n",
    "comb['age_approx'] = comb.age_approx.astype('int')"
   ]
  },
  {
   "cell_type": "code",
   "execution_count": null,
   "metadata": {
    "execution": {
     "iopub.execute_input": "2020-11-11T23:59:36.909615Z",
     "iopub.status.busy": "2020-11-11T23:59:36.908471Z",
     "iopub.status.idle": "2020-11-11T23:59:37.005347Z",
     "shell.execute_reply": "2020-11-11T23:59:37.004653Z"
    },
    "papermill": {
     "duration": 0.11833,
     "end_time": "2020-11-11T23:59:37.005475",
     "exception": false,
     "start_time": "2020-11-11T23:59:36.887145",
     "status": "completed"
    },
    "tags": []
   },
   "outputs": [],
   "source": [
    "# REWRITE DATA TO DATAFRAMES\n",
    "df[cols] = comb.loc[:df.shape[0]-1,cols].values\n",
    "test[cols] = comb.loc[df.shape[0]:,cols].values"
   ]
  },
  {
   "cell_type": "code",
   "execution_count": null,
   "metadata": {
    "execution": {
     "iopub.execute_input": "2020-11-11T23:59:37.042428Z",
     "iopub.status.busy": "2020-11-11T23:59:37.041724Z",
     "iopub.status.idle": "2020-11-11T23:59:37.058009Z",
     "shell.execute_reply": "2020-11-11T23:59:37.057395Z"
    },
    "papermill": {
     "duration": 0.03721,
     "end_time": "2020-11-11T23:59:37.058139",
     "exception": false,
     "start_time": "2020-11-11T23:59:37.020929",
     "status": "completed"
    },
    "tags": []
   },
   "outputs": [],
   "source": [
    "# LABEL ENCODE TRAIN SOURCE\n",
    "df.patient_id,mp = df.patient_id.factorize()\n",
    "print(mp)\n",
    "df.diagnosis, mp = df.diagnosis.factorize()\n",
    "print(mp)\n",
    "df.benign_malignant, mp = df.benign_malignant.factorize()\n",
    "print(mp)"
   ]
  },
  {
   "cell_type": "code",
   "execution_count": null,
   "metadata": {
    "execution": {
     "iopub.execute_input": "2020-11-11T23:59:37.105978Z",
     "iopub.status.busy": "2020-11-11T23:59:37.100019Z",
     "iopub.status.idle": "2020-11-11T23:59:37.110360Z",
     "shell.execute_reply": "2020-11-11T23:59:37.109750Z"
    },
    "papermill": {
     "duration": 0.03654,
     "end_time": "2020-11-11T23:59:37.110473",
     "exception": false,
     "start_time": "2020-11-11T23:59:37.073933",
     "status": "completed"
    },
    "tags": []
   },
   "outputs": [],
   "source": [
    "df"
   ]
  },
  {
   "cell_type": "code",
   "execution_count": null,
   "metadata": {
    "execution": {
     "iopub.execute_input": "2020-11-11T23:59:37.151725Z",
     "iopub.status.busy": "2020-11-11T23:59:37.151068Z",
     "iopub.status.idle": "2020-11-11T23:59:37.153945Z",
     "shell.execute_reply": "2020-11-11T23:59:37.153387Z"
    },
    "papermill": {
     "duration": 0.027047,
     "end_time": "2020-11-11T23:59:37.154058",
     "exception": false,
     "start_time": "2020-11-11T23:59:37.127011",
     "status": "completed"
    },
    "tags": []
   },
   "outputs": [],
   "source": [
    "def _bytes_feature(value):\n",
    "  \"\"\"Returns a bytes_list from a string / byte.\"\"\"\n",
    "  if isinstance(value, type(tf.constant(0))):\n",
    "    value = value.numpy() # BytesList won't unpack a string from an EagerTensor.\n",
    "  return tf.train.Feature(bytes_list=tf.train.BytesList(value=[value]))\n",
    "\n",
    "def _float_feature(value):\n",
    "  \"\"\"Returns a float_list from a float / double.\"\"\"\n",
    "  return tf.train.Feature(float_list=tf.train.FloatList(value=[value]))\n",
    "\n",
    "def _int64_feature(value):\n",
    "  \"\"\"Returns an int64_list from a bool / enum / int / uint.\"\"\"\n",
    "  return tf.train.Feature(int64_list=tf.train.Int64List(value=[value]))"
   ]
  },
  {
   "cell_type": "code",
   "execution_count": null,
   "metadata": {
    "execution": {
     "iopub.execute_input": "2020-11-11T23:59:37.195905Z",
     "iopub.status.busy": "2020-11-11T23:59:37.195113Z",
     "iopub.status.idle": "2020-11-11T23:59:37.197891Z",
     "shell.execute_reply": "2020-11-11T23:59:37.197359Z"
    },
    "papermill": {
     "duration": 0.027096,
     "end_time": "2020-11-11T23:59:37.198006",
     "exception": false,
     "start_time": "2020-11-11T23:59:37.170910",
     "status": "completed"
    },
    "tags": []
   },
   "outputs": [],
   "source": [
    "def serialize_example(feature0, feature1, feature2, feature3, feature4, feature5, feature6, feature7, feature8, feature9, feature10):\n",
    "  feature = {\n",
    "      'image': _bytes_feature(feature0),\n",
    "      'image_name': _bytes_feature(feature1),\n",
    "      'patient_id': _int64_feature(feature2),\n",
    "      'sex': _int64_feature(feature3),\n",
    "      'age_approx': _int64_feature(feature4),\n",
    "      'anatom_site_general_challenge': _int64_feature(feature5),\n",
    "      'diagnosis': _int64_feature(feature6),\n",
    "      'benign_malignant': _int64_feature(feature7),\n",
    "      'target': _int64_feature(feature8),\n",
    "      'width': _int64_feature(feature9),\n",
    "      'height': _int64_feature(feature10)\n",
    "  }\n",
    "  example_proto = tf.train.Example(features=tf.train.Features(feature=feature))\n",
    "  return example_proto.SerializeToString()"
   ]
  },
  {
   "cell_type": "code",
   "execution_count": null,
   "metadata": {
    "execution": {
     "iopub.execute_input": "2020-11-11T23:59:37.242405Z",
     "iopub.status.busy": "2020-11-11T23:59:37.241597Z",
     "iopub.status.idle": "2020-11-12T00:03:44.567105Z",
     "shell.execute_reply": "2020-11-12T00:03:44.566392Z"
    },
    "papermill": {
     "duration": 247.352478,
     "end_time": "2020-11-12T00:03:44.567231",
     "exception": false,
     "start_time": "2020-11-11T23:59:37.214753",
     "status": "completed"
    },
    "tags": []
   },
   "outputs": [],
   "source": [
    "for j in range(15):\n",
    "    PATH = GCS_PATH + str(j) + '/'\n",
    "    print(); print('Writing TFRecord %i...'%(j))\n",
    "    IMGS = os.listdir(PATH)\n",
    "    with tf.io.TFRecordWriter('train%.2i-%i.tfrec'%(j,len(IMGS))) as writer:\n",
    "        for k in range(len(IMGS)):\n",
    "#             img = np.asarray(image.load_img(PATH+IMGS[k]))\n",
    "            img = cv2.imread(PATH+IMGS[k])\n",
    "#             img = cv2.cvtColor(img, cv2.COLOR_BGR2RGB) # Fix incorrect colors\n",
    "            img = cv2.imencode('.jpg', img, (cv2.IMWRITE_JPEG_QUALITY, 94))[1].tostring()\n",
    "            name = IMGS[k].split('.')[0]\n",
    "            row = df.loc[df.image_name==name]\n",
    "            example = serialize_example(\n",
    "                img, str.encode(name),\n",
    "                row.patient_id.values[0],\n",
    "                row.sex.values[0],\n",
    "                row.age_approx.values[0],                        \n",
    "                row.anatom_site_general_challenge.values[0],\n",
    "                row.diagnosis.values[0],\n",
    "                row.benign_malignant.values[0],\n",
    "                row.target.values[0],                \n",
    "                row.width.values[0],\n",
    "                row.height.values[0])\n",
    "            writer.write(example)\n",
    "            if k%100==0: print(k,', ',end='')"
   ]
  },
  {
   "cell_type": "code",
   "execution_count": null,
   "metadata": {
    "execution": {
     "iopub.execute_input": "2020-11-12T00:03:44.788081Z",
     "iopub.status.busy": "2020-11-12T00:03:44.787464Z",
     "iopub.status.idle": "2020-11-12T00:03:45.545595Z",
     "shell.execute_reply": "2020-11-12T00:03:45.544926Z"
    },
    "papermill": {
     "duration": 0.870462,
     "end_time": "2020-11-12T00:03:45.545733",
     "exception": false,
     "start_time": "2020-11-12T00:03:44.675271",
     "status": "completed"
    },
    "tags": []
   },
   "outputs": [],
   "source": [
    "! ls -l"
   ]
  },
  {
   "cell_type": "code",
   "execution_count": null,
   "metadata": {
    "execution": {
     "iopub.execute_input": "2020-11-12T00:03:45.771314Z",
     "iopub.status.busy": "2020-11-12T00:03:45.770290Z",
     "iopub.status.idle": "2020-11-12T00:03:45.772952Z",
     "shell.execute_reply": "2020-11-12T00:03:45.773411Z"
    },
    "papermill": {
     "duration": 0.12009,
     "end_time": "2020-11-12T00:03:45.773565",
     "exception": false,
     "start_time": "2020-11-12T00:03:45.653475",
     "status": "completed"
    },
    "tags": []
   },
   "outputs": [],
   "source": [
    "def serialize_example2(feature0, feature1, feature2, feature3, feature4, feature5, feature6, feature7): \n",
    "  feature = {\n",
    "      'image': _bytes_feature(feature0),\n",
    "      'image_name': _bytes_feature(feature1),\n",
    "      'patient_id': _int64_feature(feature2),\n",
    "      'sex': _int64_feature(feature3),\n",
    "      'age_approx': _int64_feature(feature4),\n",
    "      'anatom_site_general_challenge': _int64_feature(feature5),\n",
    "      'width': _int64_feature(feature6),\n",
    "      'height': _int64_feature(feature7),      \n",
    "  }\n",
    "  example_proto = tf.train.Example(features=tf.train.Features(feature=feature))\n",
    "  return example_proto.SerializeToString()"
   ]
  },
  {
   "cell_type": "code",
   "execution_count": null,
   "metadata": {
    "execution": {
     "iopub.execute_input": "2020-11-12T00:03:46.002348Z",
     "iopub.status.busy": "2020-11-12T00:03:45.999069Z",
     "iopub.status.idle": "2020-11-12T00:04:48.919617Z",
     "shell.execute_reply": "2020-11-12T00:04:48.918964Z"
    },
    "papermill": {
     "duration": 63.036582,
     "end_time": "2020-11-12T00:04:48.919781",
     "exception": false,
     "start_time": "2020-11-12T00:03:45.883199",
     "status": "completed"
    },
    "tags": []
   },
   "outputs": [],
   "source": [
    "SIZE = 687\n",
    "CT = len(IMGS2)//SIZE + int(len(IMGS2)%SIZE!=0)\n",
    "print(CT)\n",
    "for j in range(CT):\n",
    "    print(); print('Writing TFRecord %i of %i...'%(j,CT))\n",
    "    CT2 = min(SIZE,len(IMGS2)-j*SIZE)\n",
    "    with tf.io.TFRecordWriter('test%.2i-%i.tfrec'%(j,CT2)) as writer:\n",
    "        for k in range(CT2):\n",
    "            img = cv2.imread(GCS_PATH2+IMGS2[SIZE*j+k])\n",
    "#             img = cv2.cvtColor(img, cv2.COLOR_BGR2RGB) # Fix incorrect colors\n",
    "            img = cv2.imencode('.jpg', img, (cv2.IMWRITE_JPEG_QUALITY, 94))[1].tostring()\n",
    "            name = IMGS2[SIZE*j+k].split('.')[0]\n",
    "            row = test.loc[test.image_name==name]\n",
    "            example = serialize_example2(\n",
    "                img, str.encode(name),\n",
    "                row.patient_id.values[0],\n",
    "                row.sex.values[0],\n",
    "                row.age_approx.values[0],                        \n",
    "                row.anatom_site_general_challenge.values[0],\n",
    "                row.width.values[0],\n",
    "                row.height.values[0]\n",
    "            )\n",
    "            writer.write(example)\n",
    "            if k%100==0: print(k,', ',end='')"
   ]
  },
  {
   "cell_type": "code",
   "execution_count": null,
   "metadata": {
    "papermill": {
     "duration": 0.137048,
     "end_time": "2020-11-12T00:04:49.194261",
     "exception": false,
     "start_time": "2020-11-12T00:04:49.057213",
     "status": "completed"
    },
    "tags": []
   },
   "outputs": [],
   "source": []
  },
  {
   "cell_type": "code",
   "execution_count": null,
   "metadata": {
    "_kg_hide-input": true,
    "execution": {
     "iopub.execute_input": "2020-11-12T00:04:49.494477Z",
     "iopub.status.busy": "2020-11-12T00:04:49.493710Z",
     "iopub.status.idle": "2020-11-12T00:04:49.496806Z",
     "shell.execute_reply": "2020-11-12T00:04:49.496283Z"
    },
    "papermill": {
     "duration": 0.161018,
     "end_time": "2020-11-12T00:04:49.496935",
     "exception": false,
     "start_time": "2020-11-12T00:04:49.335917",
     "status": "completed"
    },
    "tags": []
   },
   "outputs": [],
   "source": [
    "# numpy and matplotlib defaults\n",
    "np.set_printoptions(threshold=15, linewidth=80)\n",
    "CLASSES = [0,1]\n",
    "\n",
    "def batch_to_numpy_images_and_labels(data):\n",
    "    images, labels = data\n",
    "    numpy_images = images.numpy()\n",
    "    numpy_labels = labels.numpy()\n",
    "    #if numpy_labels.dtype == object: # binary string in this case, these are image ID strings\n",
    "    #    numpy_labels = [None for _ in enumerate(numpy_images)]\n",
    "    # If no labels, only image IDs, return None for labels (this is the case for test data)\n",
    "    return numpy_images, numpy_labels\n",
    "\n",
    "def title_from_label_and_target(label, correct_label):\n",
    "    if correct_label is None:\n",
    "        return CLASSES[label], True\n",
    "    correct = (label == correct_label)\n",
    "    return \"{} [{}{}{}]\".format(CLASSES[label], 'OK' if correct else 'NO', u\"\\u2192\" if not correct else '',\n",
    "                                CLASSES[correct_label] if not correct else ''), correct\n",
    "\n",
    "def display_one_flower(image, title, subplot, red=False, titlesize=16):\n",
    "    plt.subplot(*subplot)\n",
    "    plt.axis('off')\n",
    "    plt.imshow(image)\n",
    "    if len(title) > 0:\n",
    "        plt.title(title, fontsize=int(titlesize) if not red else int(titlesize/1.2), color='red' if red else 'black', fontdict={'verticalalignment':'center'}, pad=int(titlesize/1.5))\n",
    "    return (subplot[0], subplot[1], subplot[2]+1)\n",
    "    \n",
    "def display_batch_of_images(databatch, predictions=None):\n",
    "    \"\"\"This will work with:\n",
    "    display_batch_of_images(images)\n",
    "    display_batch_of_images(images, predictions)\n",
    "    display_batch_of_images((images, labels))\n",
    "    display_batch_of_images((images, labels), predictions)\n",
    "    \"\"\"\n",
    "    # data\n",
    "    images, labels = batch_to_numpy_images_and_labels(databatch)\n",
    "    if labels is None:\n",
    "        labels = [None for _ in enumerate(images)]\n",
    "        \n",
    "    # auto-squaring: this will drop data that does not fit into square or square-ish rectangle\n",
    "    rows = int(math.sqrt(len(images)))\n",
    "    cols = len(images)//rows\n",
    "        \n",
    "    # size and spacing\n",
    "    FIGSIZE = 13.0\n",
    "    SPACING = 0.1\n",
    "    subplot=(rows,cols,1)\n",
    "    if rows < cols:\n",
    "        plt.figure(figsize=(FIGSIZE,FIGSIZE/cols*rows))\n",
    "    else:\n",
    "        plt.figure(figsize=(FIGSIZE/rows*cols,FIGSIZE))\n",
    "    \n",
    "    # display\n",
    "    for i, (image, label) in enumerate(zip(images[:rows*cols], labels[:rows*cols])):\n",
    "        title = label\n",
    "        correct = True\n",
    "        if predictions is not None:\n",
    "            title, correct = title_from_label_and_target(predictions[i], label)\n",
    "        dynamic_titlesize = FIGSIZE*SPACING/max(rows,cols)*40+3 # magic formula tested to work from 1x1 to 10x10 images\n",
    "        subplot = display_one_flower(image, title, subplot, not correct, titlesize=dynamic_titlesize)\n",
    "    \n",
    "    #layout\n",
    "    plt.tight_layout()\n",
    "    if label is None and predictions is None:\n",
    "        plt.subplots_adjust(wspace=0, hspace=0)\n",
    "    else:\n",
    "        plt.subplots_adjust(wspace=SPACING, hspace=SPACING)\n",
    "    plt.show()"
   ]
  },
  {
   "cell_type": "code",
   "execution_count": null,
   "metadata": {
    "_kg_hide-input": true,
    "execution": {
     "iopub.execute_input": "2020-11-12T00:04:49.787618Z",
     "iopub.status.busy": "2020-11-12T00:04:49.786837Z",
     "iopub.status.idle": "2020-11-12T00:04:49.789054Z",
     "shell.execute_reply": "2020-11-12T00:04:49.789544Z"
    },
    "papermill": {
     "duration": 0.154295,
     "end_time": "2020-11-12T00:04:49.789701",
     "exception": false,
     "start_time": "2020-11-12T00:04:49.635406",
     "status": "completed"
    },
    "tags": []
   },
   "outputs": [],
   "source": [
    "def decode_image(image_data):\n",
    "    image = tf.image.decode_jpeg(image_data, channels=3)\n",
    "    image = tf.cast(image, tf.float32) / 255.0  # convert image to floats in [0, 1] range\n",
    "    image = tf.reshape(image, [*IMAGE_SIZE, 3]) # explicit size needed for TPU\n",
    "    return image\n",
    "\n",
    "def read_labeled_tfrecord(example):\n",
    "    LABELED_TFREC_FORMAT = {\n",
    "        \"image\": tf.io.FixedLenFeature([], tf.string), # tf.string means bytestring\n",
    "        \"image_name\": tf.io.FixedLenFeature([], tf.string),  # shape [] means single element\n",
    "    }\n",
    "    example = tf.io.parse_single_example(example, LABELED_TFREC_FORMAT)\n",
    "    image = decode_image(example['image'])\n",
    "    label = example['image_name']\n",
    "    return image, label # returns a dataset of (image, label) pairs\n",
    "\n",
    "def load_dataset(filenames, labeled=True, ordered=False):\n",
    "    # Read from TFRecords. For optimal performance, reading from multiple files at once and\n",
    "    # disregarding data order. Order does not matter since we will be shuffling the data anyway.\n",
    "\n",
    "    ignore_order = tf.data.Options()\n",
    "    if not ordered:\n",
    "        ignore_order.experimental_deterministic = False # disable order, increase speed\n",
    "\n",
    "    dataset = tf.data.TFRecordDataset(filenames, num_parallel_reads=AUTO) # automatically interleaves reads from multiple files\n",
    "    dataset = dataset.with_options(ignore_order) # uses data as soon as it streams in, rather than in its original order\n",
    "    dataset = dataset.map(read_labeled_tfrecord)\n",
    "    # returns a dataset of (image, label) pairs if labeled=True or (image, id) pairs if labeled=False\n",
    "    return dataset\n",
    "\n",
    "def get_training_dataset(file):\n",
    "    dataset = load_dataset(file, labeled=True)\n",
    "    dataset = dataset.repeat() # the training dataset must repeat for several epochs\n",
    "    dataset = dataset.shuffle(2048)\n",
    "    dataset = dataset.batch(BATCH_SIZE)\n",
    "    dataset = dataset.prefetch(AUTO) # prefetch next batch while training (autotune prefetch buffer size)\n",
    "    return dataset\n",
    "\n",
    "def count_data_items(filenames):\n",
    "    # the number of data items is written in the name of the .tfrec files, i.e. flowers00-230.tfrec = 230 data items\n",
    "    n = [int(re.compile(r\"-([0-9]*)\\.\").search(filename).group(1)) for filename in filenames]\n",
    "    return np.sum(n)"
   ]
  },
  {
   "cell_type": "code",
   "execution_count": null,
   "metadata": {
    "execution": {
     "iopub.execute_input": "2020-11-12T00:04:50.073974Z",
     "iopub.status.busy": "2020-11-12T00:04:50.073043Z",
     "iopub.status.idle": "2020-11-12T00:04:50.079814Z",
     "shell.execute_reply": "2020-11-12T00:04:50.079203Z"
    },
    "papermill": {
     "duration": 0.151162,
     "end_time": "2020-11-12T00:04:50.079932",
     "exception": false,
     "start_time": "2020-11-12T00:04:49.928770",
     "status": "completed"
    },
    "tags": []
   },
   "outputs": [],
   "source": [
    "# INITIALIZE VARIABLES\n",
    "IMAGE_SIZE= [256,256]; BATCH_SIZE = 32\n",
    "AUTO = tf.data.experimental.AUTOTUNE\n",
    "TRAINING_FILENAMES = tf.io.gfile.glob('train*.tfrec')\n",
    "TESTING_FILENAMES = tf.io.gfile.glob('test*.tfrec')\n",
    "print('There are %i train images'%count_data_items(TRAINING_FILENAMES))\n",
    "print('There are %i test images'%count_data_items(TESTING_FILENAMES))"
   ]
  },
  {
   "cell_type": "code",
   "execution_count": null,
   "metadata": {
    "execution": {
     "iopub.execute_input": "2020-11-12T00:04:50.372103Z",
     "iopub.status.busy": "2020-11-12T00:04:50.371304Z",
     "iopub.status.idle": "2020-11-12T00:04:55.828954Z",
     "shell.execute_reply": "2020-11-12T00:04:55.829477Z"
    },
    "papermill": {
     "duration": 5.6088,
     "end_time": "2020-11-12T00:04:55.829621",
     "exception": false,
     "start_time": "2020-11-12T00:04:50.220821",
     "status": "completed"
    },
    "tags": []
   },
   "outputs": [],
   "source": [
    "# DISPLAY TRAIN IMAGES\n",
    "training_dataset = get_training_dataset(TRAINING_FILENAMES)\n",
    "training_dataset = training_dataset.unbatch().batch(20)\n",
    "train_batch = iter(training_dataset)\n",
    "display_batch_of_images(next(train_batch))"
   ]
  },
  {
   "cell_type": "code",
   "execution_count": null,
   "metadata": {
    "execution": {
     "iopub.execute_input": "2020-11-12T00:04:56.171342Z",
     "iopub.status.busy": "2020-11-12T00:04:56.170625Z",
     "iopub.status.idle": "2020-11-12T00:05:01.144982Z",
     "shell.execute_reply": "2020-11-12T00:05:01.144312Z"
    },
    "papermill": {
     "duration": 5.147958,
     "end_time": "2020-11-12T00:05:01.145133",
     "exception": false,
     "start_time": "2020-11-12T00:04:55.997175",
     "status": "completed"
    },
    "tags": []
   },
   "outputs": [],
   "source": [
    "# DISPLAY TRAIN IMAGES\n",
    "testing_dataset = get_training_dataset(TESTING_FILENAMES)\n",
    "testing_dataset = testing_dataset.unbatch().batch(20)\n",
    "test_batch = iter(testing_dataset)\n",
    "display_batch_of_images(next(test_batch))"
   ]
  }
 ],
 "metadata": {
  "kernelspec": {
   "display_name": "Python 3",
   "language": "python",
   "name": "python3"
  },
  "language_info": {
   "codemirror_mode": {
    "name": "ipython",
    "version": 3
   },
   "file_extension": ".py",
   "mimetype": "text/x-python",
   "name": "python",
   "nbconvert_exporter": "python",
   "pygments_lexer": "ipython3",
   "version": "3.11.1 (main, Dec 23 2022, 09:28:24) [Clang 14.0.0 (clang-1400.0.29.202)]"
  },
  "papermill": {
   "duration": 335.20125,
   "end_time": "2020-11-12T00:05:01.547837",
   "environment_variables": {},
   "exception": null,
   "input_path": "__notebook__.ipynb",
   "output_path": "__notebook__.ipynb",
   "parameters": {},
   "start_time": "2020-11-11T23:59:26.346587",
   "version": "2.1.0"
  },
  "vscode": {
   "interpreter": {
    "hash": "5c7b89af1651d0b8571dde13640ecdccf7d5a6204171d6ab33e7c296e100e08a"
   }
  }
 },
 "nbformat": 4,
 "nbformat_minor": 4
}
